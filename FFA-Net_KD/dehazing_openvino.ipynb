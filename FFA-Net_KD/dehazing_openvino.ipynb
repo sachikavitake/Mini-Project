{
  "nbformat": 4,
  "nbformat_minor": 0,
  "metadata": {
    "colab": {
      "name": "dehazing-openvino.ipynb",
      "provenance": [],
      "collapsed_sections": []
    },
    "kernelspec": {
      "name": "python3",
      "display_name": "Python 3"
    },
    "language_info": {
      "name": "python"
    }
  },
  "cells": [
    {
      "cell_type": "code",
      "metadata": {
        "id": "Ap_QkcwTp-y0"
      },
      "source": [
        ""
      ],
      "execution_count": null,
      "outputs": []
    },
    {
      "cell_type": "code",
      "metadata": {
        "colab": {
          "base_uri": "https://localhost:8080/"
        },
        "id": "ZdRd8we7l5-j",
        "outputId": "fda768a3-7c64-4baa-897f-df378b32cd35"
      },
      "source": [
        "! git clone https://github.com/manncodes/dehazing-openvino.git"
      ],
      "execution_count": null,
      "outputs": [
        {
          "output_type": "stream",
          "name": "stdout",
          "text": [
            "Cloning into 'dehazing-openvino'...\n",
            "remote: Enumerating objects: 86, done.\u001b[K\n",
            "remote: Counting objects: 100% (86/86), done.\u001b[K\n",
            "remote: Compressing objects: 100% (59/59), done.\u001b[K\n",
            "remote: Total 86 (delta 28), reused 81 (delta 23), pack-reused 0\u001b[K\n",
            "Unpacking objects: 100% (86/86), done.\n"
          ]
        }
      ]
    },
    {
      "cell_type": "code",
      "metadata": {
        "colab": {
          "base_uri": "https://localhost:8080/"
        },
        "id": "FiVHdw7Dl9dy",
        "outputId": "7c3b812b-1592-4c5b-b10c-d0e8a227a736"
      },
      "source": [
        "%ls"
      ],
      "execution_count": null,
      "outputs": [
        {
          "output_type": "stream",
          "name": "stdout",
          "text": [
            "\u001b[0m\u001b[01;34mdehazing-openvino\u001b[0m/  \u001b[01;34msample_data\u001b[0m/\n"
          ]
        }
      ]
    },
    {
      "cell_type": "code",
      "metadata": {
        "id": "lVuQLmUlm5pG",
        "colab": {
          "base_uri": "https://localhost:8080/"
        },
        "outputId": "601d83e5-81ff-4316-95ac-4b7f75e2a864"
      },
      "source": [
        "%ls"
      ],
      "execution_count": 3,
      "outputs": [
        {
          "output_type": "stream",
          "name": "stdout",
          "text": [
            "\u001b[0m\u001b[01;34mdehazing-openvino\u001b[0m/  its_train_ffa_3_9.pk  \u001b[01;34msample_data\u001b[0m/\n"
          ]
        }
      ]
    },
    {
      "cell_type": "code",
      "metadata": {
        "colab": {
          "base_uri": "https://localhost:8080/"
        },
        "id": "UbJ5b_RPpNgu",
        "outputId": "8d426248-0fcc-414a-f970-6f35c8f65d9c"
      },
      "source": [
        "%cd dehazing-openvino"
      ],
      "execution_count": 4,
      "outputs": [
        {
          "output_type": "stream",
          "name": "stdout",
          "text": [
            "/content/dehazing-openvino\n"
          ]
        }
      ]
    },
    {
      "cell_type": "code",
      "metadata": {
        "colab": {
          "base_uri": "https://localhost:8080/"
        },
        "id": "iW3dRGWgp2uV",
        "outputId": "10186d87-12a7-444e-8f39-567cab0c55b9"
      },
      "source": [
        "%cd net"
      ],
      "execution_count": 5,
      "outputs": [
        {
          "output_type": "stream",
          "name": "stdout",
          "text": [
            "/content/dehazing-openvino/net\n"
          ]
        }
      ]
    },
    {
      "cell_type": "code",
      "metadata": {
        "colab": {
          "base_uri": "https://localhost:8080/"
        },
        "id": "TJlnqDS2p5V3",
        "outputId": "bf6a90cc-479c-4418-f5cd-f176eb02e084"
      },
      "source": [
        "! python test.py"
      ],
      "execution_count": 6,
      "outputs": [
        {
          "output_type": "stream",
          "name": "stdout",
          "text": [
            "pred_dir: /content/dehazing-openvino/net/pred_FFA_its/\n",
            "frame0.jpg | torch.Size([1, 3, 1656, 2944])\n",
            "tcmalloc: large alloc 1248067584 bytes == 0x55a6a4586000 @  0x7fbbed2f9b6b 0x7fbbed319379 0x7fbb830a726e 0x7fbb830a89e2 0x7fbbc6ef59f8 0x7fbbc6edf359 0x7fbbc6eec1bf 0x7fbbc6eed07e 0x7fbbc6ee7a26 0x7fbbc6ee84c7 0x7fbbc754dc62 0x7fbbc739f57b 0x7fbbc89eac01 0x7fbbc89eb392 0x7fbbc701356d 0x7fbbc6aaa518 0x7fbbc75c02ba 0x7fbbc700da7b 0x7fbbc6aa31db 0x7fbbc75c021a 0x7fbbc700bfc5 0x7fbbc6aa2daa 0x7fbbc75c0552 0x7fbbc701287d 0x7fbbd99a7026 0x55a69335d4b0 0x55a69335d240 0x55a6933d10f3 0x55a69335eafa 0x55a6933d0d00 0x55a69335f039\n",
            "tcmalloc: large alloc 1248067584 bytes == 0x55a6eebc6000 @  0x7fbbed2f9b6b 0x7fbbed319379 0x7fbb830a726e 0x7fbb830a89e2 0x7fbbc6912b49 0x7fbbc6913897 0x7fbbc6cefd89 0x7fbbc7454b9a 0x7fbbc7437cbe 0x7fbbc703ca05 0x7fbbc6f0086a 0x7fbbc6ee8594 0x7fbbc754dc62 0x7fbbc739f57b 0x7fbbc89eac01 0x7fbbc89eb392 0x7fbbc701356d 0x7fbbc6aaa518 0x7fbbc75c02ba 0x7fbbc700da7b 0x7fbbc6aa31db 0x7fbbc75c021a 0x7fbbc700bfc5 0x7fbbc6aa2daa 0x7fbbc75c0552 0x7fbbc701287d 0x7fbbd99a7026 0x55a69335d4b0 0x55a69335d240 0x55a6933d10f3 0x55a69335eafa\n",
            "tcmalloc: large alloc 3744202752 bytes == 0x55a8ae796000 @  0x7fbbed2f9b6b 0x7fbbed319379 0x7fbb830a726e 0x7fbb830a89e2 0x7fbbc77c3a73 0x7fbbc6c88a9d 0x7fbbc7769014 0x7fbbc6d08f59 0x7fbbc6d09785 0x7fbbc7457ad2 0x7fbbc6ffacc2 0x7fbbc6d11aab 0x7fbbc754d542 0x7fbbc7389db4 0x7fbbc8add147 0x7fbbc8add7f5 0x7fbbc6ffa212 0x7fbbd99bb5ee 0x55a69335d544 0x55a69335d240 0x55a6933d1627 0x55a69335f039 0x55a69335f698 0x55a6933cdfe4 0x55a6933cb9ee 0x55a69335f271 0x55a6933a2409 0x55a69335dc52 0x55a6933d0c25 0x55a6933cb9ee 0x55a6933cb6f3\n",
            "compose time:0.24430441856384277 | inference time : 434.5681233406067 | total time : 434.5681233406067\n",
            "average time: 434.5681233406067  s\n"
          ]
        }
      ]
    },
    {
      "cell_type": "code",
      "metadata": {
        "colab": {
          "base_uri": "https://localhost:8080/"
        },
        "id": "cPSav2zgrNb2",
        "outputId": "3f9a3373-ab90-4b66-830d-aac0d7e3ee78"
      },
      "source": [
        "! python test.py"
      ],
      "execution_count": 7,
      "outputs": [
        {
          "output_type": "stream",
          "name": "stdout",
          "text": [
            "pred_dir: /content/dehazing-openvino/net/pred_FFA_its/\n",
            "Traceback (most recent call last):\n",
            "  File \"test.py\", line 53, in <module>\n",
            "    haze = Image.open(img_dir + im)\n",
            "  File \"/usr/local/lib/python3.7/dist-packages/PIL/Image.py\", line 2843, in open\n",
            "    fp = builtins.open(filename, \"rb\")\n",
            "IsADirectoryError: [Errno 21] Is a directory: '/content/dehazing-openvino/net/test_img/.ipynb_checkpoints'\n"
          ]
        }
      ]
    },
    {
      "cell_type": "code",
      "metadata": {
        "colab": {
          "base_uri": "https://localhost:8080/"
        },
        "id": "-_bXDB1dtSLP",
        "outputId": "2f272beb-fc5b-4452-b943-7cc8bf55a7d6"
      },
      "source": [
        "! python test.py"
      ],
      "execution_count": 8,
      "outputs": [
        {
          "output_type": "stream",
          "name": "stdout",
          "text": [
            "pred_dir: /content/dehazing-openvino/net/pred_FFA_its/\n",
            "Traceback (most recent call last):\n",
            "  File \"test.py\", line 53, in <module>\n",
            "    haze = Image.open(img_dir + im)\n",
            "  File \"/usr/local/lib/python3.7/dist-packages/PIL/Image.py\", line 2843, in open\n",
            "    fp = builtins.open(filename, \"rb\")\n",
            "IsADirectoryError: [Errno 21] Is a directory: '/content/dehazing-openvino/net/test_img/.ipynb_checkpoints'\n"
          ]
        }
      ]
    },
    {
      "cell_type": "code",
      "metadata": {
        "colab": {
          "base_uri": "https://localhost:8080/"
        },
        "id": "72gFYQQXthiS",
        "outputId": "207f251f-1b1f-46b6-e6b0-804f9bb307ed"
      },
      "source": [
        "! python test.py"
      ],
      "execution_count": 9,
      "outputs": [
        {
          "output_type": "stream",
          "name": "stdout",
          "text": [
            "pred_dir: /content/dehazing-openvino/net/pred_FFA_its/\n",
            "frame40.jpg | torch.Size([1, 3, 1656, 2944])\n",
            "tcmalloc: large alloc 1248067584 bytes == 0x5621a7062000 @  0x7f4581b21b6b 0x7f4581b41379 0x7f451790f26e 0x7f45179109e2 0x7f455b75d9f8 0x7f455b747359 0x7f455b7541bf 0x7f455b75507e 0x7f455b74fa26 0x7f455b7504c7 0x7f455bdb5c62 0x7f455bc0757b 0x7f455d252c01 0x7f455d253392 0x7f455b87b56d 0x7f455b312518 0x7f455be282ba 0x7f455b875a7b 0x7f455b30b1db 0x7f455be2821a 0x7f455b873fc5 0x7f455b30adaa 0x7f455be28552 0x7f455b87a87d 0x7f456e20f026 0x56219656d4b0 0x56219656d240 0x5621965e10f3 0x56219656eafa 0x5621965e0d00 0x56219656f039\n",
            "tcmalloc: large alloc 1248067584 bytes == 0x5621f16a2000 @  0x7f4581b21b6b 0x7f4581b41379 0x7f451790f26e 0x7f45179109e2 0x7f455b17ab49 0x7f455b17b897 0x7f455b557d89 0x7f455bcbcb9a 0x7f455bc9fcbe 0x7f455b8a4a05 0x7f455b76886a 0x7f455b750594 0x7f455bdb5c62 0x7f455bc0757b 0x7f455d252c01 0x7f455d253392 0x7f455b87b56d 0x7f455b312518 0x7f455be282ba 0x7f455b875a7b 0x7f455b30b1db 0x7f455be2821a 0x7f455b873fc5 0x7f455b30adaa 0x7f455be28552 0x7f455b87a87d 0x7f456e20f026 0x56219656d4b0 0x56219656d240 0x5621965e10f3 0x56219656eafa\n",
            "tcmalloc: large alloc 3744202752 bytes == 0x5623b1276000 @  0x7f4581b21b6b 0x7f4581b41379 0x7f451790f26e 0x7f45179109e2 0x7f455c02ba73 0x7f455b4f0a9d 0x7f455bfd1014 0x7f455b570f59 0x7f455b571785 0x7f455bcbfad2 0x7f455b862cc2 0x7f455b579aab 0x7f455bdb5542 0x7f455bbf1db4 0x7f455d345147 0x7f455d3457f5 0x7f455b862212 0x7f456e2235ee 0x56219656d544 0x56219656d240 0x5621965e1627 0x56219656f039 0x56219656f698 0x5621965ddfe4 0x5621965db9ee 0x56219656f271 0x5621965b2409 0x56219656dc52 0x5621965e0c25 0x5621965db9ee 0x5621965db6f3\n",
            "compose time:0.3439466953277588 | inference time : 429.94658279418945 | total time : 429.94658279418945\n",
            "average time: 429.94658279418945  s\n"
          ]
        }
      ]
    },
    {
      "cell_type": "code",
      "metadata": {
        "colab": {
          "base_uri": "https://localhost:8080/"
        },
        "id": "DWqIQHsKt8JD",
        "outputId": "cb53807b-c94b-4827-d610-f2f89ed393d7"
      },
      "source": [
        " ! python test.py"
      ],
      "execution_count": 10,
      "outputs": [
        {
          "output_type": "stream",
          "name": "stdout",
          "text": [
            "pred_dir: /content/dehazing-openvino/net/pred_FFA_its/\n",
            "frame40.jpg | torch.Size([1, 3, 1656, 2944])\n",
            "tcmalloc: large alloc 1248067584 bytes == 0x55cc5eff0000 @  0x7f6292cc0b6b 0x7f6292ce0379 0x7f6228aae26e 0x7f6228aaf9e2 0x7f626c8fc9f8 0x7f626c8e6359 0x7f626c8f31bf 0x7f626c8f407e 0x7f626c8eea26 0x7f626c8ef4c7 0x7f626cf54c62 0x7f626cda657b 0x7f626e3f1c01 0x7f626e3f2392 0x7f626ca1a56d 0x7f626c4b1518 0x7f626cfc72ba 0x7f626ca14a7b 0x7f626c4aa1db 0x7f626cfc721a 0x7f626ca12fc5 0x7f626c4a9daa 0x7f626cfc7552 0x7f626ca1987d 0x7f627f3ae026 0x55cc4ec484b0 0x55cc4ec48240 0x55cc4ecbc0f3 0x55cc4ec49afa 0x55cc4ecbbd00 0x55cc4ec4a039\n",
            "tcmalloc: large alloc 1248067584 bytes == 0x55cca9630000 @  0x7f6292cc0b6b 0x7f6292ce0379 0x7f6228aae26e 0x7f6228aaf9e2 0x7f626c319b49 0x7f626c31a897 0x7f626c6f6d89 0x7f626ce5bb9a 0x7f626ce3ecbe 0x7f626ca43a05 0x7f626c90786a 0x7f626c8ef594 0x7f626cf54c62 0x7f626cda657b 0x7f626e3f1c01 0x7f626e3f2392 0x7f626ca1a56d 0x7f626c4b1518 0x7f626cfc72ba 0x7f626ca14a7b 0x7f626c4aa1db 0x7f626cfc721a 0x7f626ca12fc5 0x7f626c4a9daa 0x7f626cfc7552 0x7f626ca1987d 0x7f627f3ae026 0x55cc4ec484b0 0x55cc4ec48240 0x55cc4ecbc0f3 0x55cc4ec49afa\n",
            "tcmalloc: large alloc 3744202752 bytes == 0x55ce69204000 @  0x7f6292cc0b6b 0x7f6292ce0379 0x7f6228aae26e 0x7f6228aaf9e2 0x7f626d1caa73 0x7f626c68fa9d 0x7f626d170014 0x7f626c70ff59 0x7f626c710785 0x7f626ce5ead2 0x7f626ca01cc2 0x7f626c718aab 0x7f626cf54542 0x7f626cd90db4 0x7f626e4e4147 0x7f626e4e47f5 0x7f626ca01212 0x7f627f3c25ee 0x55cc4ec48544 0x55cc4ec48240 0x55cc4ecbc627 0x55cc4ec4a039 0x55cc4ec4a698 0x55cc4ecb8fe4 0x55cc4ecb69ee 0x55cc4ec4a271 0x55cc4ec8d409 0x55cc4ec48c52 0x55cc4ecbbc25 0x55cc4ecb69ee 0x55cc4ecb66f3\n",
            "compose time:0.3672962188720703 | inference time : 437.932005405426 | total time : 437.932005405426\n",
            "average time: 437.932005405426  s\n"
          ]
        }
      ]
    },
    {
      "cell_type": "code",
      "metadata": {
        "colab": {
          "base_uri": "https://localhost:8080/"
        },
        "id": "eVLdYg3MyAHy",
        "outputId": "2693718b-f271-48ac-9c89-7ffb89ec5f05"
      },
      "source": [
        " ! python test.py"
      ],
      "execution_count": 11,
      "outputs": [
        {
          "output_type": "stream",
          "name": "stdout",
          "text": [
            "pred_dir: /content/dehazing-openvino/net/pred_FFA_its/\n",
            "Traceback (most recent call last):\n",
            "  File \"test.py\", line 53, in <module>\n",
            "    haze = Image.open(img_dir + im)\n",
            "  File \"/usr/local/lib/python3.7/dist-packages/PIL/Image.py\", line 2843, in open\n",
            "    fp = builtins.open(filename, \"rb\")\n",
            "IsADirectoryError: [Errno 21] Is a directory: '/content/dehazing-openvino/net/test_img/.ipynb_checkpoints'\n"
          ]
        }
      ]
    },
    {
      "cell_type": "code",
      "metadata": {
        "colab": {
          "base_uri": "https://localhost:8080/"
        },
        "id": "UBkzukJBz71T",
        "outputId": "7f34ea5e-b50b-40ae-edcf-87cf3828d95f"
      },
      "source": [
        "! python test.py"
      ],
      "execution_count": 13,
      "outputs": [
        {
          "output_type": "stream",
          "name": "stdout",
          "text": [
            "pred_dir: /content/dehazing-openvino/net/pred_FFA_its/\n",
            "Traceback (most recent call last):\n",
            "  File \"test.py\", line 53, in <module>\n",
            "    haze = Image.open(img_dir + im)\n",
            "  File \"/usr/local/lib/python3.7/dist-packages/PIL/Image.py\", line 2843, in open\n",
            "    fp = builtins.open(filename, \"rb\")\n",
            "IsADirectoryError: [Errno 21] Is a directory: '/content/dehazing-openvino/net/test_img/.ipynb_checkpoints'\n"
          ]
        }
      ]
    },
    {
      "cell_type": "code",
      "metadata": {
        "id": "aHgVah-Z0MHq"
      },
      "source": [
        ""
      ],
      "execution_count": null,
      "outputs": []
    }
  ]
}